{
 "cells": [
  {
   "cell_type": "code",
   "execution_count": 1,
   "id": "99d422d9-e72d-449d-9c16-e2d02ac63e67",
   "metadata": {},
   "outputs": [],
   "source": [
    "import pandas as pd\n",
    "import openpyxl\n",
    "import mysql.connector"
   ]
  },
  {
   "cell_type": "code",
   "execution_count": 2,
   "id": "10e47712-8546-4e65-b136-9b73eed73b56",
   "metadata": {},
   "outputs": [],
   "source": [
    "df = pd.read_excel(r\"C:\\Users\\Harish\\Documents\\Py to sql.xlsx\")"
   ]
  },
  {
   "cell_type": "code",
   "execution_count": 3,
   "id": "978bf451-de25-4904-b3a9-cc3764301dd3",
   "metadata": {},
   "outputs": [
    {
     "data": {
      "text/html": [
       "<div>\n",
       "<style scoped>\n",
       "    .dataframe tbody tr th:only-of-type {\n",
       "        vertical-align: middle;\n",
       "    }\n",
       "\n",
       "    .dataframe tbody tr th {\n",
       "        vertical-align: top;\n",
       "    }\n",
       "\n",
       "    .dataframe thead th {\n",
       "        text-align: right;\n",
       "    }\n",
       "</style>\n",
       "<table border=\"1\" class=\"dataframe\">\n",
       "  <thead>\n",
       "    <tr style=\"text-align: right;\">\n",
       "      <th></th>\n",
       "      <th>Client_number</th>\n",
       "      <th>Project_number</th>\n",
       "      <th>Address</th>\n",
       "    </tr>\n",
       "  </thead>\n",
       "  <tbody>\n",
       "    <tr>\n",
       "      <th>0</th>\n",
       "      <td>1</td>\n",
       "      <td>11</td>\n",
       "      <td>no.1 1st cross street</td>\n",
       "    </tr>\n",
       "    <tr>\n",
       "      <th>1</th>\n",
       "      <td>2</td>\n",
       "      <td>22</td>\n",
       "      <td>no.2 2nd cross street</td>\n",
       "    </tr>\n",
       "    <tr>\n",
       "      <th>2</th>\n",
       "      <td>3</td>\n",
       "      <td>33</td>\n",
       "      <td>no.3 3rd cross street</td>\n",
       "    </tr>\n",
       "  </tbody>\n",
       "</table>\n",
       "</div>"
      ],
      "text/plain": [
       "   Client_number  Project_number                Address\n",
       "0              1              11  no.1 1st cross street\n",
       "1              2              22  no.2 2nd cross street\n",
       "2              3              33  no.3 3rd cross street"
      ]
     },
     "execution_count": 3,
     "metadata": {},
     "output_type": "execute_result"
    }
   ],
   "source": [
    "df"
   ]
  },
  {
   "cell_type": "code",
   "execution_count": 5,
   "id": "aaa9c998-5ac1-4951-8256-1fcf35c014ee",
   "metadata": {},
   "outputs": [
    {
     "name": "stdout",
     "output_type": "stream",
     "text": [
      "Records inserted or updated successfully\n",
      "Connection to MySQL database closed.\n"
     ]
    }
   ],
   "source": [
    "import mysql.connector\n",
    "import pandas as pd\n",
    "mydb = mysql.connector.connect(\n",
    "    host=\"localhost\",\n",
    "    user=\"root\",\n",
    "    password=\"Harish_4623\",\n",
    "    database=\"ex\"\n",
    ")\n",
    "if mydb.is_connected():\n",
    "    mycursor = mydb.cursor()\n",
    "    excel_data = pd.read_excel(r\"C:\\Users\\Harish\\Documents\\Py to sql.xlsx\")\n",
    "    for index, row in excel_data.iterrows():\n",
    "        Client_number = row['Client_number']\n",
    "        Project_number = row['Project_number']\n",
    "        Address = row['Address']\n",
    "        sql_query = \"INSERT INTO client (Client_number, Project_number, Address) VALUES (%s, %s, %s) ON DUPLICATE KEY UPDATE Project_number = VALUES(Project_number), Address = VALUES(Address)\"\n",
    "        record = (Client_number, Project_number, Address)\n",
    "        mycursor.execute(sql_query, record)\n",
    "    mydb.commit()\n",
    "    print(\"Records inserted or updated successfully\")\n",
    "    mycursor.close()\n",
    "    mydb.close()\n",
    "    print(\"Connection to MySQL database closed.\")\n",
    "else:\n",
    "    print(\"Connection to MySQL database failed.\")"
   ]
  },
  {
   "cell_type": "code",
   "execution_count": null,
   "id": "e89778cd-892f-478a-a48f-90414daf5e9b",
   "metadata": {},
   "outputs": [],
   "source": []
  }
 ],
 "metadata": {
  "kernelspec": {
   "display_name": "Python 3 (ipykernel)",
   "language": "python",
   "name": "python3"
  },
  "language_info": {
   "codemirror_mode": {
    "name": "ipython",
    "version": 3
   },
   "file_extension": ".py",
   "mimetype": "text/x-python",
   "name": "python",
   "nbconvert_exporter": "python",
   "pygments_lexer": "ipython3",
   "version": "3.12.0"
  }
 },
 "nbformat": 4,
 "nbformat_minor": 5
}
